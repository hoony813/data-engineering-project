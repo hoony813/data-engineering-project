{
 "cells": [
  {
   "cell_type": "code",
   "execution_count": 1,
   "id": "c5ee3bfe",
   "metadata": {},
   "outputs": [],
   "source": [
    "from pyspark.sql import SparkSession"
   ]
  },
  {
   "cell_type": "code",
   "execution_count": 2,
   "id": "6958f2d5",
   "metadata": {},
   "outputs": [
    {
     "name": "stderr",
     "output_type": "stream",
     "text": [
      "WARNING: An illegal reflective access operation has occurred\n",
      "WARNING: Illegal reflective access by org.apache.spark.unsafe.Platform (file:/Users/imchanghun/opt/anaconda3/lib/python3.9/site-packages/pyspark/jars/spark-unsafe_2.12-3.2.0.jar) to constructor java.nio.DirectByteBuffer(long,int)\n",
      "WARNING: Please consider reporting this to the maintainers of org.apache.spark.unsafe.Platform\n",
      "WARNING: Use --illegal-access=warn to enable warnings of further illegal reflective access operations\n",
      "WARNING: All illegal access operations will be denied in a future release\n",
      "Using Spark's default log4j profile: org/apache/spark/log4j-defaults.properties\n",
      "Setting default log level to \"WARN\".\n",
      "To adjust logging level use sc.setLogLevel(newLevel). For SparkR, use setLogLevel(newLevel).\n",
      "22/10/16 21:47:33 WARN NativeCodeLoader: Unable to load native-hadoop library for your platform... using builtin-java classes where applicable\n"
     ]
    }
   ],
   "source": [
    "spark = SparkSession.builder.master(\"local\").appName(\"trip_count_by_zone_sql\").config(\"spark.driver.bindAddress\",\"127.0.0.1\").getOrCreate()"
   ]
  },
  {
   "cell_type": "code",
   "execution_count": 7,
   "id": "0c4a0d36",
   "metadata": {},
   "outputs": [],
   "source": [
    "directory = \"/Users/imchanghun/data-engineering/data-engineering-project/Spark/data\"\n",
    "trip_file = \"fhvhv_tripdata_2020-03.csv\"\n",
    "zone_file = \"taxi+_zone_lookup.csv\""
   ]
  },
  {
   "cell_type": "code",
   "execution_count": 8,
   "id": "973e399a",
   "metadata": {},
   "outputs": [
    {
     "name": "stderr",
     "output_type": "stream",
     "text": [
      "                                                                                \r"
     ]
    }
   ],
   "source": [
    "trip_data = spark.read.csv(f\"file:///{directory}/{trip_file}\", inferSchema = True, header=True)\n",
    "zone_data = spark.read.csv(f\"file:///{directory}/{zone_file}\", inferSchema = True, header=True)"
   ]
  },
  {
   "cell_type": "code",
   "execution_count": 9,
   "id": "7dacb899",
   "metadata": {},
   "outputs": [
    {
     "name": "stdout",
     "output_type": "stream",
     "text": [
      "+-----------------+--------------------+-------------------+-------------------+------------+------------+-------+\n",
      "|hvfhs_license_num|dispatching_base_num|    pickup_datetime|   dropoff_datetime|PULocationID|DOLocationID|SR_Flag|\n",
      "+-----------------+--------------------+-------------------+-------------------+------------+------------+-------+\n",
      "|           HV0005|              B02510|2020-03-01 00:03:40|2020-03-01 00:23:39|          81|         159|   null|\n",
      "|           HV0005|              B02510|2020-03-01 00:28:05|2020-03-01 00:38:57|         168|         119|   null|\n",
      "|           HV0003|              B02764|2020-03-01 00:03:07|2020-03-01 00:15:04|         137|         209|      1|\n",
      "|           HV0003|              B02764|2020-03-01 00:18:42|2020-03-01 00:38:42|         209|          80|   null|\n",
      "|           HV0003|              B02764|2020-03-01 00:44:24|2020-03-01 00:58:44|         256|         226|   null|\n",
      "+-----------------+--------------------+-------------------+-------------------+------------+------------+-------+\n",
      "only showing top 5 rows\n",
      "\n"
     ]
    }
   ],
   "source": [
    "trip_data.show(5)"
   ]
  },
  {
   "cell_type": "code",
   "execution_count": 10,
   "id": "318e3c23",
   "metadata": {},
   "outputs": [
    {
     "name": "stdout",
     "output_type": "stream",
     "text": [
      "+----------+-------------+--------------------+------------+\n",
      "|LocationID|      Borough|                Zone|service_zone|\n",
      "+----------+-------------+--------------------+------------+\n",
      "|         1|          EWR|      Newark Airport|         EWR|\n",
      "|         2|       Queens|         Jamaica Bay|   Boro Zone|\n",
      "|         3|        Bronx|Allerton/Pelham G...|   Boro Zone|\n",
      "|         4|    Manhattan|       Alphabet City| Yellow Zone|\n",
      "|         5|Staten Island|       Arden Heights|   Boro Zone|\n",
      "+----------+-------------+--------------------+------------+\n",
      "only showing top 5 rows\n",
      "\n"
     ]
    }
   ],
   "source": [
    "zone_data.show(5)"
   ]
  },
  {
   "cell_type": "code",
   "execution_count": 11,
   "id": "2ab1e980",
   "metadata": {},
   "outputs": [],
   "source": [
    "trip_data.createOrReplaceTempView(\"trip_data\")\n",
    "zone_data.createOrReplaceTempView(\"zone_data\")"
   ]
  },
  {
   "cell_type": "code",
   "execution_count": 12,
   "id": "05a9ef07",
   "metadata": {
    "scrolled": true
   },
   "outputs": [
    {
     "name": "stdout",
     "output_type": "stream",
     "text": [
      "+-----------------+--------------------+-------------------+-------------------+------------+------------+-------+\n",
      "|hvfhs_license_num|dispatching_base_num|    pickup_datetime|   dropoff_datetime|PULocationID|DOLocationID|SR_Flag|\n",
      "+-----------------+--------------------+-------------------+-------------------+------------+------------+-------+\n",
      "|           HV0005|              B02510|2020-03-01 00:03:40|2020-03-01 00:23:39|          81|         159|   null|\n",
      "|           HV0005|              B02510|2020-03-01 00:28:05|2020-03-01 00:38:57|         168|         119|   null|\n",
      "|           HV0003|              B02764|2020-03-01 00:03:07|2020-03-01 00:15:04|         137|         209|      1|\n",
      "|           HV0003|              B02764|2020-03-01 00:18:42|2020-03-01 00:38:42|         209|          80|   null|\n",
      "|           HV0003|              B02764|2020-03-01 00:44:24|2020-03-01 00:58:44|         256|         226|   null|\n",
      "+-----------------+--------------------+-------------------+-------------------+------------+------------+-------+\n",
      "\n"
     ]
    }
   ],
   "source": [
    "spark.sql(\"select * from trip_data limit 5\").show()"
   ]
  },
  {
   "cell_type": "code",
   "execution_count": 13,
   "id": "44f0c25d",
   "metadata": {},
   "outputs": [
    {
     "name": "stdout",
     "output_type": "stream",
     "text": [
      "+----------+-------------+--------------------+------------+\n",
      "|LocationID|      Borough|                Zone|service_zone|\n",
      "+----------+-------------+--------------------+------------+\n",
      "|         1|          EWR|      Newark Airport|         EWR|\n",
      "|         2|       Queens|         Jamaica Bay|   Boro Zone|\n",
      "|         3|        Bronx|Allerton/Pelham G...|   Boro Zone|\n",
      "|         4|    Manhattan|       Alphabet City| Yellow Zone|\n",
      "|         5|Staten Island|       Arden Heights|   Boro Zone|\n",
      "+----------+-------------+--------------------+------------+\n",
      "\n"
     ]
    }
   ],
   "source": [
    "spark.sql(\"SELECT * FROM zone_data LIMIT 5\").show()"
   ]
  },
  {
   "cell_type": "code",
   "execution_count": 14,
   "id": "96540370",
   "metadata": {},
   "outputs": [
    {
     "name": "stderr",
     "output_type": "stream",
     "text": [
      "[Stage 15:=================================================>        (6 + 1) / 7]\r"
     ]
    },
    {
     "name": "stdout",
     "output_type": "stream",
     "text": [
      "+-------------+-------+\n",
      "|      borough|  trips|\n",
      "+-------------+-------+\n",
      "|       Queens|2437383|\n",
      "|          EWR|    362|\n",
      "|      Unknown|    845|\n",
      "|     Brooklyn|3735764|\n",
      "|Staten Island| 178818|\n",
      "|    Manhattan|4953140|\n",
      "|        Bronx|2086592|\n",
      "+-------------+-------+\n",
      "\n"
     ]
    },
    {
     "name": "stderr",
     "output_type": "stream",
     "text": [
      "\r",
      "                                                                                \r"
     ]
    }
   ],
   "source": [
    "spark.sql(\"SELECT borough, count(*) as trips FROM \\\n",
    "(SELECT zone_data.Borough as borough \\\n",
    "from trip_data join zone_data on trip_data.PULocationID = zone_data.LocationID) \\\n",
    "GROUP BY borough\").show()"
   ]
  },
  {
   "cell_type": "code",
   "execution_count": 15,
   "id": "e0d1e1ba",
   "metadata": {},
   "outputs": [
    {
     "name": "stderr",
     "output_type": "stream",
     "text": [
      "[Stage 19:=================================================>        (6 + 1) / 7]\r"
     ]
    },
    {
     "name": "stdout",
     "output_type": "stream",
     "text": [
      "+-------------+-------+\n",
      "|      borough|  trips|\n",
      "+-------------+-------+\n",
      "|       Queens|2468408|\n",
      "|          EWR|  65066|\n",
      "|      Unknown| 387759|\n",
      "|     Brooklyn|3696682|\n",
      "|Staten Island| 177727|\n",
      "|    Manhattan|4553776|\n",
      "|        Bronx|2043486|\n",
      "+-------------+-------+\n",
      "\n"
     ]
    },
    {
     "name": "stderr",
     "output_type": "stream",
     "text": [
      "\r",
      "                                                                                \r"
     ]
    }
   ],
   "source": [
    "spark.sql(\"SELECT borough, count(*) as trips FROM \\\n",
    "(SELECT zone_data.Borough as borough \\\n",
    "from trip_data join zone_data on trip_data.DOLocationID = zone_data.LocationID) \\\n",
    "GROUP BY borough\").show()"
   ]
  },
  {
   "cell_type": "code",
   "execution_count": 17,
   "id": "1e0a856f",
   "metadata": {},
   "outputs": [
    {
     "name": "stderr",
     "output_type": "stream",
     "text": [
      "[Stage 23:=================================================>        (6 + 1) / 7]\r"
     ]
    },
    {
     "name": "stdout",
     "output_type": "stream",
     "text": [
      "+--------------------+------+\n",
      "|                Zone| trips|\n",
      "+--------------------+------+\n",
      "| Crown Heights North|163091|\n",
      "|       East New York|134198|\n",
      "|         JFK Airport|114179|\n",
      "|        East Village|112017|\n",
      "|      Bushwick South|110150|\n",
      "|Central Harlem North|108070|\n",
      "|   LaGuardia Airport|104119|\n",
      "|Washington Height...| 97324|\n",
      "|Flatbush/Ditmas Park| 95724|\n",
      "|            Canarsie| 94484|\n",
      "|TriBeCa/Civic Center| 94155|\n",
      "|             Astoria| 92676|\n",
      "|             Bedford| 90352|\n",
      "|      Midtown Center| 90261|\n",
      "|  Stuyvesant Heights| 88749|\n",
      "|            Union Sq| 88372|\n",
      "|Times Sq/Theatre ...| 86870|\n",
      "|Prospect-Lefferts...| 84347|\n",
      "|         Brownsville| 82764|\n",
      "|Mott Haven/Port M...| 82396|\n",
      "+--------------------+------+\n",
      "only showing top 20 rows\n",
      "\n"
     ]
    },
    {
     "name": "stderr",
     "output_type": "stream",
     "text": [
      "\r",
      "                                                                                \r"
     ]
    }
   ],
   "source": [
    "spark.sql(\"SELECT zone_data.Zone, count(*) AS trips \\\n",
    "FROM trip_data JOIN zone_data ON trip_data.PULocationID = zone_data.LocationID \\\n",
    "WHERE trip_data.hvfhs_license_num = 'HV0003' \\\n",
    "GROUP BY zone_data.Zone ORDER BY trips DESC\").show()"
   ]
  },
  {
   "cell_type": "code",
   "execution_count": 18,
   "id": "8b64c526",
   "metadata": {},
   "outputs": [
    {
     "name": "stdout",
     "output_type": "stream",
     "text": [
      "== Parsed Logical Plan ==\n",
      "'Sort ['trips DESC NULLS LAST], true\n",
      "+- 'Aggregate ['zone_data.Zone], ['zone_data.Zone, 'count(1) AS trips#266]\n",
      "   +- 'Filter ('trip_data.hvfhs_license_num = HV0003)\n",
      "      +- 'Join Inner, ('trip_data.PULocationID = 'zone_data.LocationID)\n",
      "         :- 'UnresolvedRelation [trip_data], [], false\n",
      "         +- 'UnresolvedRelation [zone_data], [], false\n",
      "\n",
      "== Analyzed Logical Plan ==\n",
      "Zone: string, trips: bigint\n",
      "Sort [trips#266L DESC NULLS LAST], true\n",
      "+- Aggregate [Zone#78], [Zone#78, count(1) AS trips#266L]\n",
      "   +- Filter (hvfhs_license_num#46 = HV0003)\n",
      "      +- Join Inner, (PULocationID#50 = LocationID#76)\n",
      "         :- SubqueryAlias trip_data\n",
      "         :  +- View (`trip_data`, [hvfhs_license_num#46,dispatching_base_num#47,pickup_datetime#48,dropoff_datetime#49,PULocationID#50,DOLocationID#51,SR_Flag#52])\n",
      "         :     +- Relation [hvfhs_license_num#46,dispatching_base_num#47,pickup_datetime#48,dropoff_datetime#49,PULocationID#50,DOLocationID#51,SR_Flag#52] csv\n",
      "         +- SubqueryAlias zone_data\n",
      "            +- View (`zone_data`, [LocationID#76,Borough#77,Zone#78,service_zone#79])\n",
      "               +- Relation [LocationID#76,Borough#77,Zone#78,service_zone#79] csv\n",
      "\n",
      "== Optimized Logical Plan ==\n",
      "Sort [trips#266L DESC NULLS LAST], true\n",
      "+- Aggregate [Zone#78], [Zone#78, count(1) AS trips#266L]\n",
      "   +- Project [Zone#78]\n",
      "      +- Join Inner, (PULocationID#50 = LocationID#76)\n",
      "         :- Project [PULocationID#50]\n",
      "         :  +- Filter ((isnotnull(hvfhs_license_num#46) AND (hvfhs_license_num#46 = HV0003)) AND isnotnull(PULocationID#50))\n",
      "         :     +- Relation [hvfhs_license_num#46,dispatching_base_num#47,pickup_datetime#48,dropoff_datetime#49,PULocationID#50,DOLocationID#51,SR_Flag#52] csv\n",
      "         +- Project [LocationID#76, Zone#78]\n",
      "            +- Filter isnotnull(LocationID#76)\n",
      "               +- Relation [LocationID#76,Borough#77,Zone#78,service_zone#79] csv\n",
      "\n",
      "== Physical Plan ==\n",
      "AdaptiveSparkPlan isFinalPlan=false\n",
      "+- Sort [trips#266L DESC NULLS LAST], true, 0\n",
      "   +- Exchange rangepartitioning(trips#266L DESC NULLS LAST, 200), ENSURE_REQUIREMENTS, [id=#664]\n",
      "      +- HashAggregate(keys=[Zone#78], functions=[count(1)], output=[Zone#78, trips#266L])\n",
      "         +- Exchange hashpartitioning(Zone#78, 200), ENSURE_REQUIREMENTS, [id=#661]\n",
      "            +- HashAggregate(keys=[Zone#78], functions=[partial_count(1)], output=[Zone#78, count#271L])\n",
      "               +- Project [Zone#78]\n",
      "                  +- BroadcastHashJoin [PULocationID#50], [LocationID#76], Inner, BuildRight, false\n",
      "                     :- Project [PULocationID#50]\n",
      "                     :  +- Filter ((isnotnull(hvfhs_license_num#46) AND (hvfhs_license_num#46 = HV0003)) AND isnotnull(PULocationID#50))\n",
      "                     :     +- FileScan csv [hvfhs_license_num#46,PULocationID#50] Batched: false, DataFilters: [isnotnull(hvfhs_license_num#46), (hvfhs_license_num#46 = HV0003), isnotnull(PULocationID#50)], Format: CSV, Location: InMemoryFileIndex(1 paths)[file:/Users/imchanghun/data-engineering/data-engineering-project/Spark..., PartitionFilters: [], PushedFilters: [IsNotNull(hvfhs_license_num), EqualTo(hvfhs_license_num,HV0003), IsNotNull(PULocationID)], ReadSchema: struct<hvfhs_license_num:string,PULocationID:int>\n",
      "                     +- BroadcastExchange HashedRelationBroadcastMode(List(cast(input[0, int, false] as bigint)),false), [id=#656]\n",
      "                        +- Filter isnotnull(LocationID#76)\n",
      "                           +- FileScan csv [LocationID#76,Zone#78] Batched: false, DataFilters: [isnotnull(LocationID#76)], Format: CSV, Location: InMemoryFileIndex(1 paths)[file:/Users/imchanghun/data-engineering/data-engineering-project/Spark..., PartitionFilters: [], PushedFilters: [IsNotNull(LocationID)], ReadSchema: struct<LocationID:int,Zone:string>\n",
      "\n"
     ]
    }
   ],
   "source": [
    "spark.sql(\"SELECT zone_data.Zone, count(*) AS trips \\\n",
    "FROM trip_data JOIN zone_data ON trip_data.PULocationID = zone_data.LocationID \\\n",
    "WHERE trip_data.hvfhs_license_num = 'HV0003' \\\n",
    "GROUP BY zone_data.Zone ORDER BY trips DESC\").explain(True)"
   ]
  },
  {
   "cell_type": "code",
   "execution_count": null,
   "id": "b008f07b",
   "metadata": {},
   "outputs": [],
   "source": []
  }
 ],
 "metadata": {
  "kernelspec": {
   "display_name": "Python 3 (ipykernel)",
   "language": "python",
   "name": "python3"
  },
  "language_info": {
   "codemirror_mode": {
    "name": "ipython",
    "version": 3
   },
   "file_extension": ".py",
   "mimetype": "text/x-python",
   "name": "python",
   "nbconvert_exporter": "python",
   "pygments_lexer": "ipython3",
   "version": "3.9.7"
  }
 },
 "nbformat": 4,
 "nbformat_minor": 5
}
