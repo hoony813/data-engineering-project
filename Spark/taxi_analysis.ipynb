{
 "cells": [
  {
   "cell_type": "code",
   "execution_count": 1,
   "id": "c616c849",
   "metadata": {},
   "outputs": [],
   "source": [
    "from pyspark.sql import SparkSession"
   ]
  },
  {
   "cell_type": "code",
   "execution_count": 2,
   "id": "2aee07d5",
   "metadata": {},
   "outputs": [
    {
     "name": "stderr",
     "output_type": "stream",
     "text": [
      "22/10/25 14:54:52 WARN Utils: Your hostname, imchanghun-ui-MacBookPro.local resolves to a loopback address: 127.0.0.1; using 192.168.0.7 instead (on interface en0)\n",
      "22/10/25 14:54:52 WARN Utils: Set SPARK_LOCAL_IP if you need to bind to another address\n",
      "WARNING: An illegal reflective access operation has occurred\n",
      "WARNING: Illegal reflective access by org.apache.spark.unsafe.Platform (file:/Users/imchanghun/opt/anaconda3/lib/python3.9/site-packages/pyspark/jars/spark-unsafe_2.12-3.2.0.jar) to constructor java.nio.DirectByteBuffer(long,int)\n",
      "WARNING: Please consider reporting this to the maintainers of org.apache.spark.unsafe.Platform\n",
      "WARNING: Use --illegal-access=warn to enable warnings of further illegal reflective access operations\n",
      "WARNING: All illegal access operations will be denied in a future release\n",
      "Using Spark's default log4j profile: org/apache/spark/log4j-defaults.properties\n",
      "Setting default log level to \"WARN\".\n",
      "To adjust logging level use sc.setLogLevel(newLevel). For SparkR, use setLogLevel(newLevel).\n",
      "22/10/25 14:54:53 WARN NativeCodeLoader: Unable to load native-hadoop library for your platform... using builtin-java classes where applicable\n"
     ]
    }
   ],
   "source": [
    "spark = SparkSession.builder.appName(\"taxi-analysis\").config(\"spark.driver.bindAddress\",\"127.0.0.1\").getOrCreate()"
   ]
  },
  {
   "cell_type": "code",
   "execution_count": 3,
   "id": "db21e3bd",
   "metadata": {},
   "outputs": [],
   "source": [
    "trip_files = \"/Users/imchanghun/data-engineering/data-engineering-project/Spark/data/trips/*\"\n",
    "zone_file = \"/Users/imchanghun/data-engineering/data-engineering-project/Spark/data/taxi+_zone_lookup.csv\""
   ]
  },
  {
   "cell_type": "code",
   "execution_count": 7,
   "id": "ac54c608",
   "metadata": {},
   "outputs": [],
   "source": [
    "trips_df = spark.read.parquet(f\"file:///{trip_files}\")\n",
    "zone_df = spark.read.csv(f\"file:///{zone_file}\", inferSchema=True, header=True)"
   ]
  },
  {
   "cell_type": "code",
   "execution_count": 8,
   "id": "334f88e0",
   "metadata": {},
   "outputs": [
    {
     "name": "stdout",
     "output_type": "stream",
     "text": [
      "root\n",
      " |-- VendorID: long (nullable = true)\n",
      " |-- tpep_pickup_datetime: timestamp (nullable = true)\n",
      " |-- tpep_dropoff_datetime: timestamp (nullable = true)\n",
      " |-- passenger_count: double (nullable = true)\n",
      " |-- trip_distance: double (nullable = true)\n",
      " |-- RatecodeID: double (nullable = true)\n",
      " |-- store_and_fwd_flag: string (nullable = true)\n",
      " |-- PULocationID: long (nullable = true)\n",
      " |-- DOLocationID: long (nullable = true)\n",
      " |-- payment_type: long (nullable = true)\n",
      " |-- fare_amount: double (nullable = true)\n",
      " |-- extra: double (nullable = true)\n",
      " |-- mta_tax: double (nullable = true)\n",
      " |-- tip_amount: double (nullable = true)\n",
      " |-- tolls_amount: double (nullable = true)\n",
      " |-- improvement_surcharge: double (nullable = true)\n",
      " |-- total_amount: double (nullable = true)\n",
      " |-- congestion_surcharge: double (nullable = true)\n",
      " |-- airport_fee: double (nullable = true)\n",
      "\n",
      "root\n",
      " |-- LocationID: integer (nullable = true)\n",
      " |-- Borough: string (nullable = true)\n",
      " |-- Zone: string (nullable = true)\n",
      " |-- service_zone: string (nullable = true)\n",
      "\n"
     ]
    }
   ],
   "source": [
    "trips_df.printSchema()\n",
    "zone_df.printSchema()"
   ]
  },
  {
   "cell_type": "code",
   "execution_count": 9,
   "id": "7aff876d",
   "metadata": {},
   "outputs": [],
   "source": [
    "trips_df.createOrReplaceTempView(\"trips\")\n",
    "zone_df.createOrReplaceTempView(\"zone\")"
   ]
  },
  {
   "cell_type": "code",
   "execution_count": 10,
   "id": "b30124e7",
   "metadata": {},
   "outputs": [],
   "source": [
    "query = \"\"\"\n",
    "SELECT \n",
    "    t.VendorID as vendor_id,\n",
    "    TO_DATE(t.tpep_pickup_datetime) as pickup_date,\n",
    "    TO_DATE(t.tpep_dropoff_datetime) as dropoff_date,\n",
    "    HOUR(t.tpep_pickup_datetime) as pickup_time,\n",
    "    HOUR(t.tpep_dropoff_datetime) as dropoff_time,\n",
    "    t.passenger_count,\n",
    "    t.trip_distance,\n",
    "    t.fare_amount,\n",
    "    t.tip_amount,\n",
    "    t.tolls_amount,\n",
    "    t.total_amount,\n",
    "    t.payment_type,\n",
    "    pz.Zone as pickup_zone,\n",
    "    dz.Zone as dropoff_zone\n",
    "FROM \n",
    "    trips t\n",
    "    LEFT JOIN \n",
    "        zone pz\n",
    "    ON\n",
    "        t.PULocationID = pz.LocationID\n",
    "    LEFT JOIN\n",
    "        zone dz\n",
    "    ON \n",
    "        t.DOLocationID = dz.LocationID\n",
    "\"\"\"\n",
    "comb_df = spark.sql(query)\n",
    "comb_df.createOrReplaceTempView(\"comb\")"
   ]
  },
  {
   "cell_type": "code",
   "execution_count": 11,
   "id": "04d3d96a",
   "metadata": {},
   "outputs": [
    {
     "name": "stdout",
     "output_type": "stream",
     "text": [
      "root\n",
      " |-- vendor_id: long (nullable = true)\n",
      " |-- pickup_date: date (nullable = true)\n",
      " |-- dropoff_date: date (nullable = true)\n",
      " |-- pickup_time: integer (nullable = true)\n",
      " |-- dropoff_time: integer (nullable = true)\n",
      " |-- passenger_count: double (nullable = true)\n",
      " |-- trip_distance: double (nullable = true)\n",
      " |-- fare_amount: double (nullable = true)\n",
      " |-- tip_amount: double (nullable = true)\n",
      " |-- tolls_amount: double (nullable = true)\n",
      " |-- total_amount: double (nullable = true)\n",
      " |-- payment_type: long (nullable = true)\n",
      " |-- pickup_zone: string (nullable = true)\n",
      " |-- dropoff_zone: string (nullable = true)\n",
      "\n"
     ]
    }
   ],
   "source": [
    "comb_df.printSchema()"
   ]
  },
  {
   "cell_type": "code",
   "execution_count": 12,
   "id": "b1b358bc",
   "metadata": {},
   "outputs": [
    {
     "name": "stdout",
     "output_type": "stream",
     "text": [
      "+-----------+-----------+\n",
      "|pickup_date|pickup_time|\n",
      "+-----------+-----------+\n",
      "| 2021-03-01|          9|\n",
      "| 2021-03-01|          9|\n",
      "| 2021-03-01|          9|\n",
      "| 2021-03-01|          9|\n",
      "| 2021-03-01|          9|\n",
      "| 2021-03-01|          9|\n",
      "| 2021-03-01|          9|\n",
      "| 2021-03-01|          9|\n",
      "| 2021-03-01|          9|\n",
      "| 2021-03-01|          9|\n",
      "| 2021-03-01|          9|\n",
      "| 2021-03-01|          9|\n",
      "| 2021-03-01|          9|\n",
      "| 2021-03-01|          9|\n",
      "| 2021-03-01|          9|\n",
      "| 2021-03-01|          9|\n",
      "| 2021-03-01|          9|\n",
      "| 2021-03-01|          9|\n",
      "| 2021-03-01|          9|\n",
      "| 2021-03-01|          9|\n",
      "+-----------+-----------+\n",
      "only showing top 20 rows\n",
      "\n"
     ]
    }
   ],
   "source": [
    "spark.sql(\"SELECT pickup_date, pickup_time FROM comb WHERE pickup_time > 0\").show()"
   ]
  },
  {
   "cell_type": "code",
   "execution_count": 13,
   "id": "94408547",
   "metadata": {},
   "outputs": [
    {
     "name": "stdout",
     "output_type": "stream",
     "text": [
      "+-----------+-----------+\n",
      "|pickup_date|pickup_time|\n",
      "+-----------+-----------+\n",
      "| 2009-01-01|          9|\n",
      "| 2009-01-01|          8|\n",
      "| 2009-01-01|          9|\n",
      "| 2009-01-01|          9|\n",
      "| 2009-01-01|          9|\n",
      "| 2009-01-01|          9|\n",
      "| 2009-01-01|          9|\n",
      "| 2009-01-01|         10|\n",
      "| 2009-01-01|          9|\n",
      "| 2009-01-01|          8|\n",
      "| 2009-01-01|          8|\n",
      "| 2009-01-01|         12|\n",
      "| 2009-01-02|          1|\n",
      "| 2009-01-01|         20|\n",
      "| 2009-01-01|         21|\n",
      "| 2009-01-01|         21|\n",
      "| 2009-01-01|          8|\n",
      "| 2009-01-01|          8|\n",
      "| 2009-01-01|          9|\n",
      "| 2009-01-01|          9|\n",
      "+-----------+-----------+\n",
      "only showing top 20 rows\n",
      "\n"
     ]
    }
   ],
   "source": [
    "spark.sql(\"SELECT pickup_date, pickup_time from comb WHERE pickup_date < '2020-12-31'\").show()"
   ]
  },
  {
   "cell_type": "code",
   "execution_count": 14,
   "id": "02282a4f",
   "metadata": {},
   "outputs": [
    {
     "name": "stdout",
     "output_type": "stream",
     "text": [
      "+-------+------------------+\n",
      "|summary|      total_amount|\n",
      "+-------+------------------+\n",
      "|  count|          15000936|\n",
      "|   mean| 18.75540051097825|\n",
      "| stddev|145.74310219085987|\n",
      "|    min|            -647.8|\n",
      "|    max|          398469.2|\n",
      "+-------+------------------+\n",
      "\n"
     ]
    }
   ],
   "source": [
    "comb_df.select(\"total_amount\").describe().show()"
   ]
  },
  {
   "cell_type": "code",
   "execution_count": 15,
   "id": "d91af7e6",
   "metadata": {},
   "outputs": [
    {
     "name": "stdout",
     "output_type": "stream",
     "text": [
      "+-------+-----------------+\n",
      "|summary|    trip_distance|\n",
      "+-------+-----------------+\n",
      "|  count|         15000936|\n",
      "|   mean|6.628556730059907|\n",
      "| stddev| 671.724064548099|\n",
      "|    min|              0.0|\n",
      "|    max|        332541.19|\n",
      "+-------+-----------------+\n",
      "\n"
     ]
    }
   ],
   "source": [
    "comb_df.select(\"trip_distance\").describe().show()"
   ]
  },
  {
   "cell_type": "code",
   "execution_count": 16,
   "id": "a2f4315b",
   "metadata": {},
   "outputs": [
    {
     "name": "stderr",
     "output_type": "stream",
     "text": [
      "[Stage 19:======================================>                  (8 + 4) / 12]\r"
     ]
    },
    {
     "name": "stdout",
     "output_type": "stream",
     "text": [
      "+-------+------------------+\n",
      "|summary|   passenger_count|\n",
      "+-------+------------------+\n",
      "|  count|          14166908|\n",
      "|   mean|1.4253582362502812|\n",
      "| stddev|1.0443336003189163|\n",
      "|    min|               0.0|\n",
      "|    max|               9.0|\n",
      "+-------+------------------+\n",
      "\n"
     ]
    },
    {
     "name": "stderr",
     "output_type": "stream",
     "text": [
      "\r",
      "[Stage 19:==============================================>         (10 + 2) / 12]\r",
      "\r",
      "                                                                                \r"
     ]
    }
   ],
   "source": [
    "comb_df.select(\"passenger_count\").describe().show()"
   ]
  },
  {
   "cell_type": "code",
   "execution_count": 17,
   "id": "63fa8ab7",
   "metadata": {},
   "outputs": [
    {
     "name": "stderr",
     "output_type": "stream",
     "text": [
      "[Stage 23:===================================================>    (11 + 1) / 12]\r"
     ]
    },
    {
     "name": "stdout",
     "output_type": "stream",
     "text": [
      "+-------------------+-------+\n",
      "|              month|  trips|\n",
      "+-------------------+-------+\n",
      "|2029-05-01 00:00:00|      1|\n",
      "|2021-12-01 00:00:00|      5|\n",
      "|2021-11-01 00:00:00|      5|\n",
      "|2021-10-01 00:00:00|      3|\n",
      "|2021-09-01 00:00:00|      3|\n",
      "|2021-08-01 00:00:00|  49452|\n",
      "|2021-07-01 00:00:00|2825121|\n",
      "|2021-06-01 00:00:00|2813017|\n",
      "|2021-05-01 00:00:00|2522860|\n",
      "|2021-04-01 00:00:00|2156143|\n",
      "|2021-03-01 00:00:00|1910234|\n",
      "|2021-02-01 00:00:00|1368619|\n",
      "|2021-01-01 00:00:00|1355332|\n",
      "|2020-12-01 00:00:00|      1|\n",
      "|2009-01-01 00:00:00|    137|\n",
      "|2004-04-01 00:00:00|      1|\n",
      "|2003-01-01 00:00:00|      2|\n",
      "+-------------------+-------+\n",
      "\n"
     ]
    },
    {
     "name": "stderr",
     "output_type": "stream",
     "text": [
      "\r",
      "                                                                                \r"
     ]
    }
   ],
   "source": [
    "query = \"\"\"\n",
    "SELECT\n",
    "     DATE_TRUNC('MM', c.pickup_date) AS month,\n",
    "     COUNT(*) AS trips\n",
    "FROM\n",
    "    comb c\n",
    "GROUP BY\n",
    "    month\n",
    "ORDER BY\n",
    "    month desc\n",
    "\"\"\"\n",
    "spark.sql(query).show()"
   ]
  },
  {
   "cell_type": "code",
   "execution_count": 18,
   "id": "4bf778af",
   "metadata": {},
   "outputs": [],
   "source": [
    "# Data Clearning\n",
    "query = \"\"\"\n",
    "SELECT\n",
    "    *\n",
    "FROM \n",
    "    comb c\n",
    "WHERE\n",
    "    c.total_amount < 5000\n",
    "    AND c.total_amount > 0\n",
    "    AND c.trip_distance < 100\n",
    "    AND c.passenger_count < 4\n",
    "    AND c.pickup_date >= '2021-01-01'\n",
    "    AND c.pickup_date < '2021-08-01'\n",
    "\"\"\"\n",
    "cleaned_df = spark.sql(query)\n",
    "cleaned_df.createOrReplaceTempView(\"cleaned\")"
   ]
  },
  {
   "cell_type": "code",
   "execution_count": 19,
   "id": "dbbd2ca2",
   "metadata": {},
   "outputs": [
    {
     "name": "stderr",
     "output_type": "stream",
     "text": [
      "[Stage 27:===================================================>    (11 + 1) / 12]\r"
     ]
    },
    {
     "name": "stdout",
     "output_type": "stream",
     "text": [
      "+-------+-------------------+------------------+-----------------+------------------+------------------+------------------+------------------+-------------------+------------------+------------------+--------------------+--------------------+\n",
      "|summary|          vendor_id|       pickup_time|     dropoff_time|   passenger_count|     trip_distance|       fare_amount|        tip_amount|       tolls_amount|      total_amount|      payment_type|         pickup_zone|        dropoff_zone|\n",
      "+-------+-------------------+------------------+-----------------+------------------+------------------+------------------+------------------+-------------------+------------------+------------------+--------------------+--------------------+\n",
      "|  count|           13253642|          13253642|         13253642|          13253642|          13253642|          13253642|          13253642|           13253642|          13253642|          13253642|            13253642|            13253642|\n",
      "|   mean| 1.6707765307075595|11.065577823816277|10.86966141080316|1.2087798961221377|2.8368847340224344|12.157346865109043|2.1879433819022878|0.26995760033374677| 18.06785868745926| 1.247044850011793|                null|                null|\n",
      "| stddev|0.46993126435866056| 8.434813990452826|  8.4015222254569|0.5413674720611796|3.6233570133977633|10.984533246342409|2.5767501195115003|  1.541941318978806|13.260179704538254|0.4532639570158579|                null|                null|\n",
      "|    min|                  1|                 0|                0|               0.0|               0.0|              -0.8|               0.0|                0.0|              0.01|                 1|Allerton/Pelham G...|Allerton/Pelham G...|\n",
      "|    max|                  2|                23|               23|               3.0|             99.96|            4969.0|             700.0|             956.55|            4973.3|                 5|      Yorkville West|      Yorkville West|\n",
      "+-------+-------------------+------------------+-----------------+------------------+------------------+------------------+------------------+-------------------+------------------+------------------+--------------------+--------------------+\n",
      "\n"
     ]
    },
    {
     "name": "stderr",
     "output_type": "stream",
     "text": [
      "\r",
      "                                                                                \r"
     ]
    }
   ],
   "source": [
    "cleaned_df.describe().show()"
   ]
  },
  {
   "cell_type": "code",
   "execution_count": 20,
   "id": "0186a581",
   "metadata": {},
   "outputs": [],
   "source": [
    "import numpy as np\n",
    "import pandas as pd\n",
    "import seaborn as sns\n",
    "import matplotlib.pyplot as plt\n",
    "import matplotlib.dates as mdates"
   ]
  },
  {
   "cell_type": "code",
   "execution_count": 21,
   "id": "d26f322e",
   "metadata": {},
   "outputs": [
    {
     "name": "stderr",
     "output_type": "stream",
     "text": [
      "                                                                                \r"
     ]
    }
   ],
   "source": [
    "query = \"\"\"\n",
    "SELECT \n",
    "    c.pickup_date,\n",
    "    COUNT(*) AS trips\n",
    "FROM\n",
    "    cleaned c\n",
    "GROUP BY\n",
    "    c.pickup_date\n",
    "\"\"\"\n",
    "pd_df = spark.sql(query).toPandas()"
   ]
  },
  {
   "cell_type": "code",
   "execution_count": 22,
   "id": "dcc98235",
   "metadata": {},
   "outputs": [
    {
     "data": {
      "text/plain": [
       "<AxesSubplot:xlabel='pickup_date', ylabel='trips'>"
      ]
     },
     "execution_count": 22,
     "metadata": {},
     "output_type": "execute_result"
    },
    {
     "data": {
      "image/png": "[encoded data removed]",
      "text/plain": [
       "<Figure size 1152x432 with 1 Axes>"
      ]
     },
     "metadata": {
      "needs_background": "light"
     },
     "output_type": "display_data"
    }
   ],
   "source": [
    "fig, ax = plt.subplots(figsize=(16, 6))\n",
    "sns.lineplot(x=\"pickup_date\", y=\"trips\", data=pd_df)"
   ]
  },
  {
   "cell_type": "code",
   "execution_count": 23,
   "id": "50a53d74",
   "metadata": {},
   "outputs": [
    {
     "name": "stderr",
     "output_type": "stream",
     "text": [
      "                                                                                \r"
     ]
    }
   ],
   "source": [
    "query = \"\"\"\n",
    "SELECT \n",
    "    c.pickup_date,\n",
    "    DATE_FORMAT(c.pickup_date, 'EEEE') AS day_of_week,\n",
    "    COUNT(*) AS trips\n",
    "FROM\n",
    "    cleaned c\n",
    "GROUP BY\n",
    "    c.pickup_date,\n",
    "    day_of_week\n",
    "\"\"\"\n",
    "pd_df2 = spark.sql(query).toPandas()"
   ]
  },
  {
   "cell_type": "code",
   "execution_count": 24,
   "id": "2643667b",
   "metadata": {},
   "outputs": [],
   "source": [
    "data = pd_df2.groupby(\"day_of_week\").trips.median().to_frame().reset_index()\n",
    "data['sort_dow'] = data['day_of_week'].replace({\n",
    "    \"Sunday\": 0,\n",
    "    \"Monday\": 1,\n",
    "    \"Tuesday\": 2,\n",
    "    \"Wednesday\": 3,\n",
    "    \"Thursday\": 4,\n",
    "    \"Friday\": 5,\n",
    "    \"Saturday\": 6,\n",
    "})"
   ]
  },
  {
   "cell_type": "code",
   "execution_count": 25,
   "id": "3ef4c518",
   "metadata": {},
   "outputs": [],
   "source": [
    "data.sort_values(by=\"sort_dow\", inplace=True)"
   ]
  },
  {
   "cell_type": "code",
   "execution_count": 26,
   "id": "d7e7e2b1",
   "metadata": {},
   "outputs": [
    {
     "data": {
      "text/plain": [
       "<AxesSubplot:xlabel='day_of_week', ylabel='trips'>"
      ]
     },
     "execution_count": 26,
     "metadata": {},
     "output_type": "execute_result"
    },
    {
     "data": {
      "image/png": "[encoded data removed]",
      "text/plain": [
       "<Figure size 864x360 with 1 Axes>"
      ]
     },
     "metadata": {
      "needs_background": "light"
     },
     "output_type": "display_data"
    }
   ],
   "source": [
    "fig, ax = plt.subplots(figsize=(12, 5))\n",
    "sns.barplot(\n",
    "    x=\"day_of_week\",\n",
    "    y=\"trips\",\n",
    "    data=data\n",
    ")"
   ]
  },
  {
   "cell_type": "code",
   "execution_count": 27,
   "id": "89748618",
   "metadata": {},
   "outputs": [
    {
     "data": {
      "text/plain": [
       "<function __main__.get_weekday(data)>"
      ]
     },
     "execution_count": 27,
     "metadata": {},
     "output_type": "execute_result"
    }
   ],
   "source": [
    "def get_weekday(data):\n",
    "    import calendar\n",
    "    return calendar.day_name[date.weekday()]\n",
    "\n",
    "spark.udf.register(\"get_weekday\", get_weekday)"
   ]
  },
  {
   "cell_type": "code",
   "execution_count": 28,
   "id": "c873b869",
   "metadata": {},
   "outputs": [],
   "source": [
    "query = \"\"\"\n",
    "SELECT \n",
    "    c.pickup_date,\n",
    "    get_weekday(c.pickup_date) AS day_of_week,\n",
    "    COUNT(*) AS trips\n",
    "FROM\n",
    "    cleaned c\n",
    "GROUP BY\n",
    "    c.pickup_date,\n",
    "    day_of_week\n",
    "\"\"\""
   ]
  },
  {
   "cell_type": "code",
   "execution_count": 29,
   "id": "148d44b0",
   "metadata": {},
   "outputs": [
    {
     "data": {
      "text/plain": [
       "<function __main__.parse_payment_type(payment_type)>"
      ]
     },
     "execution_count": 29,
     "metadata": {},
     "output_type": "execute_result"
    }
   ],
   "source": [
    "payment_type_to_string = {\n",
    "    1: \"Credit Card\",\n",
    "    2: \"Cash\",\n",
    "    3: \"No Charge\",\n",
    "    4: \"Dispute\",\n",
    "    5: \"Unknown\",\n",
    "    6: \"Voided Trip\",\n",
    "}\n",
    "def parse_payment_type(payment_type):\n",
    "    return payment_type_to_string[payment_type]\n",
    "\n",
    "spark.udf.register(\"parse_payment_type\", parse_payment_type)"
   ]
  },
  {
   "cell_type": "code",
   "execution_count": 30,
   "id": "bd1314e0",
   "metadata": {},
   "outputs": [
    {
     "name": "stderr",
     "output_type": "stream",
     "text": [
      "[Stage 41:>                                                         (0 + 1) / 1]\r"
     ]
    },
    {
     "name": "stdout",
     "output_type": "stream",
     "text": [
      "+--------------------------------+--------+------------------+------------------+\n",
      "|parse_payment_type(payment_type)|   trips|  mean_fare_amount| stdev_fare_amount|\n",
      "+--------------------------------+--------+------------------+------------------+\n",
      "|                     Credit Card|10084721|12.212396654303522| 10.79305950738762|\n",
      "|                       No Charge|   58394|11.927290988800207|15.041269068746264|\n",
      "|                            Cash| 3087063|11.978198702132051|11.473206859706206|\n",
      "|                         Dispute|   23463| 12.63930315816392|14.154693719632084|\n",
      "|                         Unknown|       1|              17.8|              null|\n",
      "+--------------------------------+--------+------------------+------------------+\n",
      "\n"
     ]
    },
    {
     "name": "stderr",
     "output_type": "stream",
     "text": [
      "\r",
      "                                                                                \r"
     ]
    }
   ],
   "source": [
    "query = \"\"\"\n",
    "SELECT \n",
    "    parse_payment_type(payment_type),\n",
    "    count(*) AS trips,\n",
    "    MEAN(fare_amount) AS mean_fare_amount,\n",
    "    STD(fare_amount) AS stdev_fare_amount\n",
    "FROM\n",
    "    cleaned\n",
    "GROUP BY\n",
    "    payment_type\n",
    "\"\"\"\n",
    "\n",
    "spark.sql(query).show()"
   ]
  },
  {
   "cell_type": "code",
   "execution_count": null,
   "id": "a5942564",
   "metadata": {},
   "outputs": [],
   "source": []
  }
 ],
 "metadata": {
  "kernelspec": {
   "display_name": "Python 3 (ipykernel)",
   "language": "python",
   "name": "python3"
  },
  "language_info": {
   "codemirror_mode": {
    "name": "ipython",
    "version": 3
   },
   "file_extension": ".py",
   "mimetype": "text/x-python",
   "name": "python",
   "nbconvert_exporter": "python",
   "pygments_lexer": "ipython3",
   "version": "3.9.7"
  }
 },
 "nbformat": 4,
 "nbformat_minor": 5
}
