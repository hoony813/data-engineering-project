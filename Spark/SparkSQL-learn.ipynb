{
 "cells": [
  {
   "cell_type": "code",
   "execution_count": 1,
   "id": "7c910a3a",
   "metadata": {},
   "outputs": [],
   "source": [
    "from pyspark.sql import SparkSession"
   ]
  },
  {
   "cell_type": "code",
   "execution_count": 3,
   "id": "d005aa6e",
   "metadata": {},
   "outputs": [
    {
     "name": "stderr",
     "output_type": "stream",
     "text": [
      "22/10/16 21:05:19 WARN SparkContext: Another SparkContext is being constructed (or threw an exception in its constructor). This may indicate an error, since only one SparkContext should be running in this JVM (see SPARK-2243). The other SparkContext was created at:\n",
      "org.apache.spark.api.java.JavaSparkContext.<init>(JavaSparkContext.scala:58)\n",
      "java.base/jdk.internal.reflect.NativeConstructorAccessorImpl.newInstance0(Native Method)\n",
      "java.base/jdk.internal.reflect.NativeConstructorAccessorImpl.newInstance(NativeConstructorAccessorImpl.java:62)\n",
      "java.base/jdk.internal.reflect.DelegatingConstructorAccessorImpl.newInstance(DelegatingConstructorAccessorImpl.java:45)\n",
      "java.base/java.lang.reflect.Constructor.newInstance(Constructor.java:490)\n",
      "py4j.reflection.MethodInvoker.invoke(MethodInvoker.java:247)\n",
      "py4j.reflection.ReflectionEngine.invoke(ReflectionEngine.java:357)\n",
      "py4j.Gateway.invoke(Gateway.java:238)\n",
      "py4j.commands.ConstructorCommand.invokeConstructor(ConstructorCommand.java:80)\n",
      "py4j.commands.ConstructorCommand.execute(ConstructorCommand.java:69)\n",
      "py4j.ClientServerConnection.waitForCommands(ClientServerConnection.java:182)\n",
      "py4j.ClientServerConnection.run(ClientServerConnection.java:106)\n",
      "java.base/java.lang.Thread.run(Thread.java:834)\n"
     ]
    }
   ],
   "source": [
    "spark = SparkSession.builder.master(\"local\").appName(\"learn-SparkSQL\").config(\"spark.driver.bindAddress\",\"127.0.0.1\").getOrCreate()"
   ]
  },
  {
   "cell_type": "code",
   "execution_count": 4,
   "id": "d6163177",
   "metadata": {},
   "outputs": [],
   "source": [
    "stocks = [\n",
    "    ('Google', 'GOOGL', 'USA', 2984, 'USD'), \n",
    "    ('Netflix', 'NFLX', 'USA', 645, 'USD'),\n",
    "    ('Amazon', 'AMZN', 'USA', 3518, 'USD'),\n",
    "    ('Tesla', 'TSLA', 'USA', 1222, 'USD'),\n",
    "    ('Tencent', '0700', 'Hong Kong', 483, 'HKD'),\n",
    "    ('Toyota', '7203', 'Japan', 2006, 'JPY'),\n",
    "    ('Samsung', '005930', 'Korea', 70600, 'KRW'),\n",
    "    ('Kakao', '035720', 'Korea', 125000, 'KRW'),\n",
    "]"
   ]
  },
  {
   "cell_type": "code",
   "execution_count": 6,
   "id": "73cea039",
   "metadata": {},
   "outputs": [],
   "source": [
    "stock_schema = [\"name\", \"ticker\", \"country\", \"price\", \"currency\"]"
   ]
  },
  {
   "cell_type": "code",
   "execution_count": 7,
   "id": "e466cfa9",
   "metadata": {},
   "outputs": [],
   "source": [
    "df = spark.createDataFrame(data = stocks, schema=stock_schema)"
   ]
  },
  {
   "cell_type": "code",
   "execution_count": 8,
   "id": "9b30f34c",
   "metadata": {},
   "outputs": [
    {
     "data": {
      "text/plain": [
       "[('name', 'string'),\n",
       " ('ticker', 'string'),\n",
       " ('country', 'string'),\n",
       " ('price', 'bigint'),\n",
       " ('currency', 'string')]"
      ]
     },
     "execution_count": 8,
     "metadata": {},
     "output_type": "execute_result"
    }
   ],
   "source": [
    "df.dtypes"
   ]
  },
  {
   "cell_type": "code",
   "execution_count": 9,
   "id": "1ec9216e",
   "metadata": {},
   "outputs": [
    {
     "name": "stderr",
     "output_type": "stream",
     "text": [
      "[Stage 0:>                                                          (0 + 1) / 1]\r"
     ]
    },
    {
     "name": "stdout",
     "output_type": "stream",
     "text": [
      "+-------+------+---------+------+--------+\n",
      "|   name|ticker|  country| price|currency|\n",
      "+-------+------+---------+------+--------+\n",
      "| Google| GOOGL|      USA|  2984|     USD|\n",
      "|Netflix|  NFLX|      USA|   645|     USD|\n",
      "| Amazon|  AMZN|      USA|  3518|     USD|\n",
      "|  Tesla|  TSLA|      USA|  1222|     USD|\n",
      "|Tencent|  0700|Hong Kong|   483|     HKD|\n",
      "| Toyota|  7203|    Japan|  2006|     JPY|\n",
      "|Samsung|005930|    Korea| 70600|     KRW|\n",
      "|  Kakao|035720|    Korea|125000|     KRW|\n",
      "+-------+------+---------+------+--------+\n",
      "\n"
     ]
    },
    {
     "name": "stderr",
     "output_type": "stream",
     "text": [
      "\r",
      "                                                                                \r"
     ]
    }
   ],
   "source": [
    "df.show()"
   ]
  },
  {
   "cell_type": "code",
   "execution_count": 10,
   "id": "aae2d4dd",
   "metadata": {},
   "outputs": [],
   "source": [
    "df.createOrReplaceTempView(\"stocks\")"
   ]
  },
  {
   "cell_type": "code",
   "execution_count": 11,
   "id": "7e958a8a",
   "metadata": {},
   "outputs": [
    {
     "name": "stdout",
     "output_type": "stream",
     "text": [
      "+-------+\n",
      "|   name|\n",
      "+-------+\n",
      "| Google|\n",
      "|Netflix|\n",
      "| Amazon|\n",
      "|  Tesla|\n",
      "|Tencent|\n",
      "| Toyota|\n",
      "|Samsung|\n",
      "|  Kakao|\n",
      "+-------+\n",
      "\n"
     ]
    }
   ],
   "source": [
    "spark.sql(\"select name from stocks\").show()"
   ]
  },
  {
   "cell_type": "code",
   "execution_count": 12,
   "id": "4b895924",
   "metadata": {},
   "outputs": [
    {
     "name": "stdout",
     "output_type": "stream",
     "text": [
      "+-------+------+\n",
      "|   name| price|\n",
      "+-------+------+\n",
      "| Google|  2984|\n",
      "|Netflix|   645|\n",
      "| Amazon|  3518|\n",
      "|  Tesla|  1222|\n",
      "|Tencent|   483|\n",
      "| Toyota|  2006|\n",
      "|Samsung| 70600|\n",
      "|  Kakao|125000|\n",
      "+-------+------+\n",
      "\n"
     ]
    }
   ],
   "source": [
    "spark.sql(\"select name, price from stocks\").show()"
   ]
  },
  {
   "cell_type": "code",
   "execution_count": 13,
   "id": "646545b8",
   "metadata": {},
   "outputs": [
    {
     "name": "stdout",
     "output_type": "stream",
     "text": [
      "+-------+------+\n",
      "|   name| price|\n",
      "+-------+------+\n",
      "|Samsung| 70600|\n",
      "|  Kakao|125000|\n",
      "+-------+------+\n",
      "\n"
     ]
    }
   ],
   "source": [
    "spark.sql(\"select name, price from stocks where country = 'Korea'\").show()"
   ]
  },
  {
   "cell_type": "code",
   "execution_count": 14,
   "id": "ddfbf75a",
   "metadata": {},
   "outputs": [
    {
     "name": "stdout",
     "output_type": "stream",
     "text": [
      "+-------+------+\n",
      "|   name| price|\n",
      "+-------+------+\n",
      "| Google|  2984|\n",
      "| Amazon|  3518|\n",
      "| Toyota|  2006|\n",
      "|Samsung| 70600|\n",
      "|  Kakao|125000|\n",
      "+-------+------+\n",
      "\n"
     ]
    }
   ],
   "source": [
    "spark.sql(\"select name, price from stocks where price > 2000\").show()"
   ]
  },
  {
   "cell_type": "code",
   "execution_count": 15,
   "id": "1ceadafd",
   "metadata": {},
   "outputs": [
    {
     "name": "stdout",
     "output_type": "stream",
     "text": [
      "+------+-----+\n",
      "|  name|price|\n",
      "+------+-----+\n",
      "|Google| 2984|\n",
      "|Amazon| 3518|\n",
      "+------+-----+\n",
      "\n"
     ]
    }
   ],
   "source": [
    "spark.sql(\"select name, price from stocks where price > 2000 and country = 'USA'\").show()"
   ]
  },
  {
   "cell_type": "code",
   "execution_count": 16,
   "id": "115528fa",
   "metadata": {},
   "outputs": [
    {
     "name": "stdout",
     "output_type": "stream",
     "text": [
      "+-------+-----+\n",
      "|   name|price|\n",
      "+-------+-----+\n",
      "| Google| 2984|\n",
      "|Netflix|  645|\n",
      "| Amazon| 3518|\n",
      "|  Tesla| 1222|\n",
      "+-------+-----+\n",
      "\n"
     ]
    }
   ],
   "source": [
    "spark.sql(\"select name, price from stocks where country like 'U%'\").show()"
   ]
  },
  {
   "cell_type": "code",
   "execution_count": 17,
   "id": "f51f598c",
   "metadata": {},
   "outputs": [
    {
     "name": "stdout",
     "output_type": "stream",
     "text": [
      "+------+-----+\n",
      "|  name|price|\n",
      "+------+-----+\n",
      "|Amazon| 3518|\n",
      "+------+-----+\n",
      "\n"
     ]
    }
   ],
   "source": [
    "spark.sql(\"select name, price from stocks where country like 'U%' and name not like '%e%'\").show()"
   ]
  },
  {
   "cell_type": "code",
   "execution_count": 18,
   "id": "2ae15df4",
   "metadata": {},
   "outputs": [
    {
     "name": "stdout",
     "output_type": "stream",
     "text": [
      "+------+-----+\n",
      "|  name|price|\n",
      "+------+-----+\n",
      "|Google| 2984|\n",
      "|Amazon| 3518|\n",
      "| Tesla| 1222|\n",
      "|Toyota| 2006|\n",
      "+------+-----+\n",
      "\n"
     ]
    }
   ],
   "source": [
    "spark.sql(\"select name, price from stocks where price between 1000 and 10000\").show()"
   ]
  },
  {
   "cell_type": "code",
   "execution_count": 19,
   "id": "4755f226",
   "metadata": {},
   "outputs": [
    {
     "name": "stdout",
     "output_type": "stream",
     "text": [
      "+-------+-----+\n",
      "|   name|price|\n",
      "+-------+-----+\n",
      "| Google| 2984|\n",
      "|Netflix|  645|\n",
      "| Amazon| 3518|\n",
      "|  Tesla| 1222|\n",
      "+-------+-----+\n",
      "\n"
     ]
    }
   ],
   "source": [
    "spark.sql(\"select name, price from stocks where country='USA'\").show()"
   ]
  },
  {
   "cell_type": "code",
   "execution_count": 20,
   "id": "48c9f7fa",
   "metadata": {},
   "outputs": [
    {
     "name": "stdout",
     "output_type": "stream",
     "text": [
      "+------+-----+--------+\n",
      "|  name|price|currency|\n",
      "+------+-----+--------+\n",
      "|Google| 2984|     USD|\n",
      "|Amazon| 3518|     USD|\n",
      "+------+-----+--------+\n",
      "\n"
     ]
    }
   ],
   "source": [
    "spark.sql(\"select name, price, currency from stocks \\\n",
    "where currency = 'USD' and \\\n",
    "price > (select price from stocks where name = 'Tesla')\").show()"
   ]
  },
  {
   "cell_type": "code",
   "execution_count": 21,
   "id": "a34fd42e",
   "metadata": {},
   "outputs": [
    {
     "name": "stdout",
     "output_type": "stream",
     "text": [
      "+-------+------+\n",
      "|   name| price|\n",
      "+-------+------+\n",
      "|Tencent|   483|\n",
      "|Netflix|   645|\n",
      "|  Tesla|  1222|\n",
      "| Toyota|  2006|\n",
      "| Google|  2984|\n",
      "| Amazon|  3518|\n",
      "|Samsung| 70600|\n",
      "|  Kakao|125000|\n",
      "+-------+------+\n",
      "\n"
     ]
    }
   ],
   "source": [
    "spark.sql(\"select name, price from stocks order by price asc\").show()"
   ]
  },
  {
   "cell_type": "code",
   "execution_count": 22,
   "id": "d0e90872",
   "metadata": {},
   "outputs": [
    {
     "name": "stdout",
     "output_type": "stream",
     "text": [
      "+-------+------+\n",
      "|   name| price|\n",
      "+-------+------+\n",
      "|  Kakao|125000|\n",
      "|Samsung| 70600|\n",
      "| Amazon|  3518|\n",
      "| Google|  2984|\n",
      "| Toyota|  2006|\n",
      "|  Tesla|  1222|\n",
      "|Netflix|   645|\n",
      "|Tencent|   483|\n",
      "+-------+------+\n",
      "\n"
     ]
    }
   ],
   "source": [
    "spark.sql(\"select name, price from stocks order by price desc\").show()"
   ]
  },
  {
   "cell_type": "code",
   "execution_count": 23,
   "id": "1ee1059e",
   "metadata": {},
   "outputs": [
    {
     "name": "stdout",
     "output_type": "stream",
     "text": [
      "+-------+------+\n",
      "|   name| price|\n",
      "+-------+------+\n",
      "|  Tesla|  1222|\n",
      "|  Kakao|125000|\n",
      "| Amazon|  3518|\n",
      "| Toyota|  2006|\n",
      "| Google|  2984|\n",
      "|Netflix|   645|\n",
      "|Samsung| 70600|\n",
      "|Tencent|   483|\n",
      "+-------+------+\n",
      "\n"
     ]
    }
   ],
   "source": [
    "spark.sql(\"select name, price from stocks order by length(name)\").show()"
   ]
  },
  {
   "cell_type": "code",
   "execution_count": 24,
   "id": "c10141af",
   "metadata": {},
   "outputs": [
    {
     "name": "stdout",
     "output_type": "stream",
     "text": [
      "+----------+\n",
      "|sum(price)|\n",
      "+----------+\n",
      "|    195600|\n",
      "+----------+\n",
      "\n"
     ]
    }
   ],
   "source": [
    "spark.sql(\"select sum(price) from stocks where country = 'Korea'\").show()"
   ]
  },
  {
   "cell_type": "code",
   "execution_count": 25,
   "id": "7108b32d",
   "metadata": {},
   "outputs": [
    {
     "name": "stdout",
     "output_type": "stream",
     "text": [
      "+-----------+\n",
      "|mean(price)|\n",
      "+-----------+\n",
      "|    97800.0|\n",
      "+-----------+\n",
      "\n"
     ]
    }
   ],
   "source": [
    "spark.sql(\"select mean(price) from stocks where country = 'Korea'\").show()"
   ]
  },
  {
   "cell_type": "code",
   "execution_count": 26,
   "id": "d94f7176",
   "metadata": {},
   "outputs": [
    {
     "name": "stdout",
     "output_type": "stream",
     "text": [
      "+------------+\n",
      "|count(price)|\n",
      "+------------+\n",
      "|           2|\n",
      "+------------+\n",
      "\n"
     ]
    }
   ],
   "source": [
    "spark.sql(\"select count(price) from stocks where country = 'Korea'\").show()"
   ]
  },
  {
   "cell_type": "code",
   "execution_count": 27,
   "id": "8b92bb13",
   "metadata": {},
   "outputs": [
    {
     "name": "stdout",
     "output_type": "stream",
     "text": [
      "+------------+\n",
      "|count(price)|\n",
      "+------------+\n",
      "|           6|\n",
      "+------------+\n",
      "\n"
     ]
    }
   ],
   "source": [
    "spark.sql(\"select count(price) from stocks where country in ('Korea', 'USA')\").show()"
   ]
  },
  {
   "cell_type": "code",
   "execution_count": 28,
   "id": "656d067c",
   "metadata": {},
   "outputs": [],
   "source": [
    "earnings = [\n",
    "    ('Google', 27.99, 'USD'), \n",
    "    ('Netflix', 2.56, 'USD'),\n",
    "    ('Amazon', 6.12, 'USD'),\n",
    "    ('Tesla', 1.86, 'USD'),\n",
    "    ('Tencent', 11.01, 'HKD'),\n",
    "    ('Toyota', 224.82, 'JPY'),\n",
    "    ('Samsung', 1780., 'KRW'),\n",
    "    ('Kakao', 705., 'KRW')\n",
    "]"
   ]
  },
  {
   "cell_type": "code",
   "execution_count": 29,
   "id": "9677428a",
   "metadata": {},
   "outputs": [],
   "source": [
    "from pyspark.sql.types import StringType, FloatType, StructType, StructField"
   ]
  },
  {
   "cell_type": "code",
   "execution_count": 30,
   "id": "8e2b9a05",
   "metadata": {},
   "outputs": [],
   "source": [
    "earning_schema = StructType([\n",
    "    StructField(\"name\", StringType(), True),\n",
    "    StructField(\"eps\", FloatType(), True),\n",
    "    StructField(\"currency\", StringType(), True),\n",
    "])"
   ]
  },
  {
   "cell_type": "code",
   "execution_count": 31,
   "id": "3c62eca6",
   "metadata": {},
   "outputs": [],
   "source": [
    "earning_df = spark.createDataFrame(data=earnings, schema=earning_schema)"
   ]
  },
  {
   "cell_type": "code",
   "execution_count": 32,
   "id": "7ff40b3e",
   "metadata": {},
   "outputs": [
    {
     "data": {
      "text/plain": [
       "[('name', 'string'), ('eps', 'float'), ('currency', 'string')]"
      ]
     },
     "execution_count": 32,
     "metadata": {},
     "output_type": "execute_result"
    }
   ],
   "source": [
    "earning_df.dtypes"
   ]
  },
  {
   "cell_type": "code",
   "execution_count": 33,
   "id": "0625036e",
   "metadata": {},
   "outputs": [],
   "source": [
    "earning_df.createOrReplaceTempView(\"earnings\")"
   ]
  },
  {
   "cell_type": "code",
   "execution_count": 34,
   "id": "aaa8a3b2",
   "metadata": {},
   "outputs": [
    {
     "name": "stdout",
     "output_type": "stream",
     "text": [
      "+-------+------+--------+\n",
      "|   name|   eps|currency|\n",
      "+-------+------+--------+\n",
      "| Google| 27.99|     USD|\n",
      "|Netflix|  2.56|     USD|\n",
      "| Amazon|  6.12|     USD|\n",
      "|  Tesla|  1.86|     USD|\n",
      "|Tencent| 11.01|     HKD|\n",
      "| Toyota|224.82|     JPY|\n",
      "|Samsung|1780.0|     KRW|\n",
      "|  Kakao| 705.0|     KRW|\n",
      "+-------+------+--------+\n",
      "\n"
     ]
    }
   ],
   "source": [
    "earning_df.select(\"*\").show()"
   ]
  },
  {
   "cell_type": "code",
   "execution_count": 35,
   "id": "dd839742",
   "metadata": {},
   "outputs": [
    {
     "name": "stdout",
     "output_type": "stream",
     "text": [
      "+-------+------+---------+------+--------+-------+------+--------+\n",
      "|   name|ticker|  country| price|currency|   name|   eps|currency|\n",
      "+-------+------+---------+------+--------+-------+------+--------+\n",
      "| Amazon|  AMZN|      USA|  3518|     USD| Amazon|  6.12|     USD|\n",
      "| Google| GOOGL|      USA|  2984|     USD| Google| 27.99|     USD|\n",
      "|  Kakao|035720|    Korea|125000|     KRW|  Kakao| 705.0|     KRW|\n",
      "|Netflix|  NFLX|      USA|   645|     USD|Netflix|  2.56|     USD|\n",
      "|Samsung|005930|    Korea| 70600|     KRW|Samsung|1780.0|     KRW|\n",
      "|Tencent|  0700|Hong Kong|   483|     HKD|Tencent| 11.01|     HKD|\n",
      "|  Tesla|  TSLA|      USA|  1222|     USD|  Tesla|  1.86|     USD|\n",
      "| Toyota|  7203|    Japan|  2006|     JPY| Toyota|224.82|     JPY|\n",
      "+-------+------+---------+------+--------+-------+------+--------+\n",
      "\n"
     ]
    }
   ],
   "source": [
    "spark.sql(\"select * from stocks join earnings on stocks.name = earnings.name\").show()"
   ]
  },
  {
   "cell_type": "code",
   "execution_count": 36,
   "id": "60b44107",
   "metadata": {},
   "outputs": [
    {
     "name": "stdout",
     "output_type": "stream",
     "text": [
      "+-------+------------------+\n",
      "|   name|     (price / eps)|\n",
      "+-------+------------------+\n",
      "| Amazon| 574.8366120563447|\n",
      "| Google| 106.6095042658442|\n",
      "|  Kakao| 177.3049645390071|\n",
      "|Netflix| 251.9531306315913|\n",
      "|Samsung|39.662921348314605|\n",
      "|Tencent| 43.86920889728746|\n",
      "|  Tesla|  656.989242258975|\n",
      "| Toyota| 8.922693419839167|\n",
      "+-------+------------------+\n",
      "\n"
     ]
    }
   ],
   "source": [
    "spark.sql(\"select stocks.name, (stocks.price/earnings.eps) from stocks join earnings on stocks.name = earnings.name \").show()"
   ]
  },
  {
   "cell_type": "code",
   "execution_count": null,
   "id": "13cd4654",
   "metadata": {},
   "outputs": [],
   "source": []
  }
 ],
 "metadata": {
  "kernelspec": {
   "display_name": "Python 3 (ipykernel)",
   "language": "python",
   "name": "python3"
  },
  "language_info": {
   "codemirror_mode": {
    "name": "ipython",
    "version": 3
   },
   "file_extension": ".py",
   "mimetype": "text/x-python",
   "name": "python",
   "nbconvert_exporter": "python",
   "pygments_lexer": "ipython3",
   "version": "3.9.7"
  }
 },
 "nbformat": 4,
 "nbformat_minor": 5
}
